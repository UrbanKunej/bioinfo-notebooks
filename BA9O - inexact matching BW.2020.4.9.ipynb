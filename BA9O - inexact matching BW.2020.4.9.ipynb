{
 "cells": [
  {
   "cell_type": "markdown",
   "metadata": {},
   "source": [
    "# Burrows-Wheeler inexact matching with seeds\n"
   ]
  },
  {
   "cell_type": "code",
   "execution_count": 2,
   "metadata": {},
   "outputs": [],
   "source": [
    "## Subroutines\n",
    "import PatternMatching as pm\n",
    "from collections import Counter\n",
    "\n",
    "# pattern must have a k-mer of size k= n//(d+1) with exact match to match text with ≤d-mismatches\n",
    "def split_pattern(pattern, d):\n",
    "    k = len(pattern)//(d+1)\n",
    "    seeds = []\n",
    "    for i in range(0,d*k,k):        \n",
    "        seeds.append(pattern[i:i+k])\n",
    "    seeds.append(pattern[d*k:])\n",
    "    return seeds, k\n",
    "\n",
    "def get_first_last(fm_index):\n",
    "    # recreate First/Last cols -> [(symbol, rank in last)]\n",
    "    last = []\n",
    "    for i, s in enumerate(fm_index.bwt):\n",
    "        if s == '$':\n",
    "            last.append((s,0))\n",
    "        else:\n",
    "            last.append((s, fm_index.checkpt[s][i//fm_index.k]+ Counter(fm_index.bwt[i - i%fm_index.k: i])[s]))\n",
    "    first = [(fm_index.bwt[i],last[i][1]) for i in range(len(fm_index.bwt))]\n",
    "    first = sorted(first, key = lambda x: x[0])        \n",
    "    return first, last\n",
    "\n",
    "def seed_detection(fm_index, seeds, k):\n",
    "    \n",
    "    detect_ranges = []\n",
    "    putative = False\n",
    "    for i in range(len(seeds)):\n",
    "        seed_det = fm_index.pattern_match(seeds[i])\n",
    "        if seed_det == None:\n",
    "            putative = True\n",
    "        detect_ranges.append(seed_det)\n",
    "    \n",
    "    match_starts = []\n",
    "    first,last = get_first_last(fm_index)\n",
    "    for seed in range(len(detect_ranges)):\n",
    "        window = detect_ranges[seed]\n",
    "        if window == None:\n",
    "            match_starts.append([])\n",
    "        else:\n",
    "            seed_starts = []\n",
    "            for i in range(window[0], window[1]):\n",
    "                steps=0\n",
    "                j=i\n",
    "                while True:\n",
    "                    if j in fm_index.psa:\n",
    "                        seed_starts.append(fm_index.psa.index(j)*fm_index.k + steps)\n",
    "                        break\n",
    "                    steps+=1\n",
    "                    j = first.index(last[j])\n",
    "            match_starts.append((seed*k, seed_starts))\n",
    "    \n",
    "    # move match start to pattern start by zero'ing the offset\n",
    "    to_extend = []\n",
    "    for match in match_starts:\n",
    "        if match:\n",
    "            offset = match[0]\n",
    "            for start in match[1]:\n",
    "                hit = start - offset\n",
    "                if hit not in to_extend and hit >= 0:\n",
    "                    to_extend.append(hit)\n",
    "    \n",
    "    # add to set of hits to score by Hammond dist\n",
    "    return list(set(to_extend))\n",
    "\n",
    "\n",
    "def seed_extension(pattern, text, to_extend, d):\n",
    "    \n",
    "    def HammondD(a,b,threshold):\n",
    "        # Hammond distance with break at threshold\n",
    "        dist = 0\n",
    "        for i in range(len(a)):\n",
    "            if a[i] != b[i]: \n",
    "                dist += 1\n",
    "                if dist > d:\n",
    "                    return dist\n",
    "        return dist\n",
    "    \n",
    "    hits = []\n",
    "    for start in to_extend: \n",
    "        if start+len(pattern)<=len(text):\n",
    "            if HammondD(pattern, text[start: start+len(pattern)], d) <= d:\n",
    "                hits.append(start)\n",
    "    return hits\n",
    " \n",
    "def multiple_inexact_match(text, patterns, d):\n",
    "    \"\"\"return all start positions of ≤d-mismatch query patterns in text\"\"\"\n",
    "    # create the FM-index using BW class in PatternMatch module\n",
    "    fm_index = pm.BurrowsWheeler(text)\n",
    "    seed_hits = []\n",
    "    for pattern in patterns:\n",
    "        # split into d+1 seeds\n",
    "        seeds, k = split_pattern(pattern, d)\n",
    "        # seed detection by exact pattern match\n",
    "        to_extend = seed_detection(fm_index, seeds, k)\n",
    "        # find hits with ≤d mismatches\n",
    "        hits = seed_extension(pattern, text, to_extend, d)\n",
    "        seed_hits += hits\n",
    "    seed_hits.sort()\n",
    "    return seed_hits\n"
   ]
  },
  {
   "cell_type": "code",
   "execution_count": null,
   "metadata": {},
   "outputs": [],
   "source": [
    "\n",
    "\n"
   ]
  },
  {
   "cell_type": "code",
   "execution_count": 19,
   "metadata": {},
   "outputs": [
    {
     "name": "stdout",
     "output_type": "stream",
     "text": [
      "setting default k\n",
      "\n",
      "+++ Finished early, at stage h= 4\n",
      "done at h= 4\n",
      "ManberMyers: time (s) = 0.0002570152282714844\n",
      "0.0007910728454589844\n"
     ]
    },
    {
     "data": {
      "text/plain": [
       "'0 2 4 6 7 8 11'"
      ]
     },
     "execution_count": 19,
     "metadata": {},
     "output_type": "execute_result"
    }
   ],
   "source": [
    "text = \"ABABABABBBBABB\"\n",
    "patterns =['ABB']\n",
    "d = 1\n",
    "\n",
    "import time\n",
    "\n",
    "start = time.time()\n",
    "\n",
    "solution = multiple_inexact_match(text,patterns, 1)\n",
    "solution = ' '.join(str(i) for i in solution)\n",
    "print(time.time() - start)\n",
    "solution"
   ]
  },
  {
   "cell_type": "code",
   "execution_count": 21,
   "metadata": {},
   "outputs": [
    {
     "name": "stdout",
     "output_type": "stream",
     "text": [
      "setting default k\n",
      "\n",
      "+++ Finished early, at stage h= 8\n",
      "done at h= 8\n",
      "ManberMyers: time (s) = 0.5323939323425293\n",
      "392.5063650608063\n"
     ]
    }
   ],
   "source": [
    "with open(\"/Users/jasonmoggridge/Desktop/MultipleApproximatePatternMatching.txt\", 'r') as file:\n",
    "    dna = file.readline().strip()\n",
    "    patterns = file.readline().strip().split(' ')\n",
    "    d = int(file.readline().strip())\n",
    "    solutions = [int(i) for i in file.readline().strip().split(' ')]\n",
    "solution = multiple_inexact_match(dna, patterns, d)\n",
    "solution = ' '.join(str(i) for i in solution)\n"
   ]
  },
  {
   "cell_type": "code",
   "execution_count": 22,
   "metadata": {},
   "outputs": [
    {
     "data": {
      "text/plain": [
       "False"
      ]
     },
     "execution_count": 22,
     "metadata": {},
     "output_type": "execute_result"
    }
   ],
   "source": [
    "[int(i) for i in solution.split(' ')] == solutions\n",
    "\n",
    "\n"
   ]
  },
  {
   "cell_type": "code",
   "execution_count": 23,
   "metadata": {},
   "outputs": [
    {
     "data": {
      "text/plain": [
       "'4 11 15 20'"
      ]
     },
     "execution_count": 23,
     "metadata": {},
     "output_type": "execute_result"
    }
   ],
   "source": [
    "solution[:10]"
   ]
  },
  {
   "cell_type": "code",
   "execution_count": 37,
   "metadata": {},
   "outputs": [],
   "source": [
    "result = [int(i) for i in solution.split(' ')]\n"
   ]
  },
  {
   "cell_type": "code",
   "execution_count": 38,
   "metadata": {},
   "outputs": [
    {
     "data": {
      "text/plain": [
       "2000"
      ]
     },
     "execution_count": 38,
     "metadata": {},
     "output_type": "execute_result"
    }
   ],
   "source": [
    "len(result)"
   ]
  },
  {
   "cell_type": "code",
   "execution_count": 39,
   "metadata": {},
   "outputs": [
    {
     "data": {
      "text/plain": [
       "2000"
      ]
     },
     "execution_count": 39,
     "metadata": {},
     "output_type": "execute_result"
    }
   ],
   "source": [
    "len(solutions)"
   ]
  },
  {
   "cell_type": "code",
   "execution_count": 40,
   "metadata": {},
   "outputs": [
    {
     "data": {
      "text/plain": [
       "10000"
      ]
     },
     "execution_count": 40,
     "metadata": {},
     "output_type": "execute_result"
    }
   ],
   "source": [
    "len(dna)"
   ]
  },
  {
   "cell_type": "code",
   "execution_count": 41,
   "metadata": {},
   "outputs": [],
   "source": [
    "solutions.sort()"
   ]
  },
  {
   "cell_type": "code",
   "execution_count": 42,
   "metadata": {},
   "outputs": [
    {
     "data": {
      "text/plain": [
       "True"
      ]
     },
     "execution_count": 42,
     "metadata": {},
     "output_type": "execute_result"
    }
   ],
   "source": [
    "result == solutions"
   ]
  },
  {
   "cell_type": "code",
   "execution_count": 3,
   "metadata": {},
   "outputs": [],
   "source": [
    "with open(\"/Users/jasonmoggridge/Desktop/dataset_304_10.txt\", 'r') as file:\n",
    "    dna = file.readline().strip()\n",
    "    patterns = file.readline().strip().split(' ')\n",
    "    d = int(file.readline())\n",
    "result = multiple_inexact_match(dna, patterns, d)\n",
    "result_string = ' '.join(str(i) for i in result)"
   ]
  },
  {
   "cell_type": "code",
   "execution_count": 4,
   "metadata": {},
   "outputs": [],
   "source": []
  },
  {
   "cell_type": "code",
   "execution_count": 8,
   "metadata": {},
   "outputs": [
    {
     "name": "stdout",
     "output_type": "stream",
     "text": [
      "setting default k\n",
      "\n",
      "+++ Finished early, at stage h= 8\n",
      "done at h= 8\n",
      "ManberMyers: time (s) = 0.5359389781951904\n"
     ]
    }
   ],
   "source": [
    "with open(\"/Users/jasonmoggridge/Desktop/rosalind_ba9o.txt\", 'r') as file:\n",
    "    dna = file.readline().strip()\n",
    "    patterns = file.readline().strip().split(' ')\n",
    "    d = int(file.readline())\n",
    "result = multiple_inexact_match(dna, patterns, d)\n",
    "result_string = ' '.join(str(i) for i in result)\n",
    "with open (\"/Users/jasonmoggridge/Desktop/rosalind_ba9o_output.txt\", 'w') as file:\n",
    "    file.write(result_string)"
   ]
  },
  {
   "cell_type": "code",
   "execution_count": 9,
   "metadata": {},
   "outputs": [
    {
     "name": "stdout",
     "output_type": "stream",
     "text": [
      "done\n"
     ]
    }
   ],
   "source": [
    "print('done')"
   ]
  },
  {
   "cell_type": "code",
   "execution_count": null,
   "metadata": {},
   "outputs": [],
   "source": []
  }
 ],
 "metadata": {
  "kernelspec": {
   "display_name": "Python 3",
   "language": "python",
   "name": "python3"
  },
  "language_info": {
   "codemirror_mode": {
    "name": "ipython",
    "version": 3
   },
   "file_extension": ".py",
   "mimetype": "text/x-python",
   "name": "python",
   "nbconvert_exporter": "python",
   "pygments_lexer": "ipython3",
   "version": "3.7.4"
  }
 },
 "nbformat": 4,
 "nbformat_minor": 4
}
