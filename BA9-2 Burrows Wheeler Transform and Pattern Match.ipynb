{
 "cells": [
  {
   "cell_type": "markdown",
   "metadata": {},
   "source": [
    "# Burrows-Wheeler Transforms and Pattern Matching (BA. 6 wk 2)\n",
    "\n",
    "---\n",
    "\n",
    "<br>\n",
    "\n",
    "### BWT Package\n",
    "---\n",
    "\n",
    "\n",
    "* [ ] Encode BWT - ba9i\n",
    "* [ ] Decode BWT - ba9j\n",
    "* [ ] Last to First Array - ba9k\n",
    "* [ ] Pattern Match in BWT - ba9l\n",
    "\n",
    "<br>\n",
    "\n",
    "---\n",
    "\n",
    "### 1. Encoding text into Burrows-Wheeler Transform (bwt) (BA9I)\n",
    "<hr/>\n",
    "\n",
    "\n",
    "Rosalind BA9I\n",
    "- extremely naive algorithm that doesn't save space bc generates matrix of size $ |text|^2 $\n",
    "\n",
    "\n",
    "<br>"
   ]
  },
  {
   "cell_type": "code",
   "execution_count": 222,
   "metadata": {},
   "outputs": [],
   "source": [
    "def naive_bwt(text):\n",
    "    \n",
    "    if text[-1] != '$':\n",
    "        text += '$'\n",
    "        \n",
    "    cycles = []\n",
    "    for i in range(len(text)):\n",
    "        rotation = text[i:] + text[:i]\n",
    "        cycles.append(rotation)\n",
    "    \n",
    "    cycles = sorted(cycles)\n",
    "    bwt = ''\n",
    "    for cycle in cycles:\n",
    "        bwt += cycle[-1]\n",
    "    return bwt"
   ]
  },
  {
   "cell_type": "code",
   "execution_count": 210,
   "metadata": {},
   "outputs": [
    {
     "data": {
      "text/plain": [
       "'panamabananas'"
      ]
     },
     "execution_count": 210,
     "metadata": {},
     "output_type": "execute_result"
    }
   ],
   "source": [
    "# with open('/Users/jasonmoggridge/Dropbox/Rosalind/Coursera_textbook_track/Course6/data/bwt.txt') as file:\n",
    "#    text = file.readline().strip()\n",
    "text = 'panamabananas'\n",
    "text"
   ]
  },
  {
   "cell_type": "code",
   "execution_count": 211,
   "metadata": {
    "scrolled": true
   },
   "outputs": [
    {
     "data": {
      "text/plain": [
       "'smnpbnnaaaaa$a'"
      ]
     },
     "execution_count": 211,
     "metadata": {},
     "output_type": "execute_result"
    }
   ],
   "source": [
    "bwt = naive_bwt(text)\n",
    "bwt"
   ]
  },
  {
   "cell_type": "markdown",
   "metadata": {},
   "source": [
    "---\n",
    "\n",
    "### 2.  Decoding BWT (BA9J)\n",
    "<hr/>\n",
    "\n",
    "Rosalind BA9J \n",
    "\n",
    "decode text from a Burrows-Wheeler Transform"
   ]
  },
  {
   "cell_type": "code",
   "execution_count": 212,
   "metadata": {},
   "outputs": [],
   "source": [
    "def decode_bwt(bwt):\n",
    "    \n",
    "    first_col = ''.join(sorted([i for i in bwt]))\n",
    "    counts = {symbol:0 for symbol in first_col}\n",
    "    first = []\n",
    "    for symbol in first_col:\n",
    "        counts[symbol]+=1\n",
    "        first.append((symbol, counts[symbol]))\n",
    "    \n",
    "    counts = {symbol:0 for symbol in bwt}\n",
    "    last = []\n",
    "    for symbol in bwt:\n",
    "        counts[symbol]+=1\n",
    "        last.append((symbol, counts[symbol]))\n",
    "    \n",
    "    decoded =''\n",
    "    symbol = ('$',1)\n",
    "       \n",
    "    while len(decoded)<len(last):\n",
    "        symbol = first[last.index(symbol)]\n",
    "        decoded += symbol[0]\n",
    "    return decoded[:-1]"
   ]
  },
  {
   "cell_type": "code",
   "execution_count": 213,
   "metadata": {},
   "outputs": [
    {
     "data": {
      "text/plain": [
       "'smnpbnnaaaaa$a'"
      ]
     },
     "execution_count": 213,
     "metadata": {},
     "output_type": "execute_result"
    }
   ],
   "source": [
    "bwt"
   ]
  },
  {
   "cell_type": "code",
   "execution_count": 214,
   "metadata": {},
   "outputs": [
    {
     "data": {
      "text/plain": [
       "'panamabananas'"
      ]
     },
     "execution_count": 214,
     "metadata": {},
     "output_type": "execute_result"
    }
   ],
   "source": [
    "# with open('/Users/jasonmoggridge/Dropbox/Rosalind/Coursera_textbook_track/Course6/data/rosalind_ba9j.txt') as file:\n",
    "#     bwt = file.readline().strip()\n",
    "decoded = decode_bwt(bwt)\n",
    "decoded"
   ]
  },
  {
   "cell_type": "markdown",
   "metadata": {},
   "source": [
    "---       \n",
    "\n",
    "### 3. BW Matching \n",
    "---\n",
    "\n",
    "\n",
    "#### Sub section - Last To First Array (BA9K)\n",
    "---\n",
    "\n",
    "The Last-to-First array, denoted LastToFirst(i), answers the following question: given a symbol at position i in LastColumn, what is its position in FirstColumn?\n",
    "\n",
    "Last-to-First Mapping Problem\n",
    "\n",
    "    Given: \n",
    "        A string Transform and an integer i.\n",
    "\n",
    "    Return: \n",
    "        The position LastToFirst(i) in FirstColumn in the Burrows-Wheeler matrix if LastColumn = Transform.\n",
    "\n",
    "    Sample Dataset\n",
    "        T$GACCA\n",
    "        3\n",
    "    Sample Output\n",
    "        1\n",
    "\n",
    "---       "
   ]
  },
  {
   "cell_type": "code",
   "execution_count": 215,
   "metadata": {},
   "outputs": [],
   "source": [
    "def process_bwt(bwt):\n",
    "\n",
    "    counts = {symbol:0 for symbol in bwt}\n",
    "    last_col = []\n",
    "\n",
    "    for symbol in bwt:\n",
    "        counts[symbol]+=1\n",
    "        last_col.append((symbol, counts[symbol]))\n",
    "    \n",
    "    Last_to_first = [sorted(last_col).index(x) for x in last_col]\n",
    "    \n",
    "    return last_col, Last_to_first\n"
   ]
  },
  {
   "cell_type": "code",
   "execution_count": 216,
   "metadata": {},
   "outputs": [
    {
     "data": {
      "text/plain": [
       "714"
      ]
     },
     "execution_count": 216,
     "metadata": {},
     "output_type": "execute_result"
    }
   ],
   "source": [
    "with open('/Users/jasonmoggridge/Dropbox/Rosalind/Coursera_textbook_track/Course6/data/rosalind_ba9k.txt') as file:\n",
    "    bwt = file.readline().strip()\n",
    "    i = int(file.readline().strip())\n",
    "last_col, Last_to_first = process_bwt(bwt)\n",
    "Last_to_first[i]"
   ]
  },
  {
   "cell_type": "markdown",
   "metadata": {},
   "source": [
    "---       "
   ]
  },
  {
   "cell_type": "markdown",
   "metadata": {},
   "source": [
    "### BW Matching Algorithm (BA9L)\n",
    "---\n",
    "\n",
    "#### BW matching pseudocode\n",
    "\n",
    "We are now ready to describe BWMatching, an algorithm that counts the total number of matches of Pattern in Text, where the only information that we are given is FirstColumn and LastColumn in addition to the Last-to-First mapping. The pointers top and bottom are updated by the green lines in the following pseudocode.\n",
    "\n",
    "\n",
    "    BWMatching(LastColumn, Pattern, LastToFirst)\n",
    "        top ← 0\n",
    "        bottom ← |LastColumn| − 1\n",
    "        while top ≤ bottom\n",
    "            if Pattern is nonempty\n",
    "                symbol ← last letter in Pattern\n",
    "                remove last letter from Pattern\n",
    "                if positions from top to bottom in LastColumn contain an occurrence of symbol\n",
    "                    topIndex ← first position of symbol among positions from top to bottom in LastColumn\n",
    "                    bottomIndex ← last position of symbol among positions from top to bottom in LastColumn\n",
    "                    top ← LastToFirst(topIndex)\n",
    "                    bottom ← LastToFirst(bottomIndex)\n",
    "                else\n",
    "                    return 0\n",
    "            else\n",
    "                return bottom − top + 1\n",
    "<br>\n",
    "\n",
    "#### Code Challenge: Implement BWMatching.\n",
    "\n",
    "    Input:\n",
    "        A string BWT(Text), followed by a collection of Patterns.\n",
    "    Output:\n",
    "        A list of integers, where the i-th integer corresponds to the number of substring matches of the i-th member of Patterns in Text\n",
    "\n",
    "    Sample Input:\n",
    "\n",
    "        \"TCCTCTATGAGATCCTATTCTATGAAACCTTCA$GACCAAAATTCTCCGGC\"\n",
    "        ['CCT', 'CAC', 'GAG', 'CAG', 'ATC']\n",
    "\n",
    "    Sample Output:\n",
    "\n",
    "        2 1 1 0 1\n",
    "\n",
    "        # bwt = 'smnpbnnaaaaa$a'\n",
    "        # Patterns = ['ana']\n"
   ]
  },
  {
   "cell_type": "code",
   "execution_count": 217,
   "metadata": {},
   "outputs": [],
   "source": [
    "\n",
    "def BW_match(bwt_tup, Last_to_first, Pattern):\n",
    "\n",
    "    top = 0\n",
    "    bottom = len(bwt_tup)\n",
    "    symbol = Pattern[-1]\n",
    "\n",
    "    while top <= bottom:\n",
    "    \n",
    "        if len(Pattern)>=1:\n",
    "            symbol = Pattern[-1]\n",
    "        else:\n",
    "            return bottom-top\n",
    "        \n",
    "        new_bottom = 0\n",
    "        match = False\n",
    "        \n",
    "        for i in range(top, bottom):\n",
    "            if bwt_tup[i][0] == symbol:           \n",
    "                j = i+1\n",
    "                new_bottom = i \n",
    "                while j < bottom:\n",
    "                    if bwt_tup[j][0] == symbol:\n",
    "                        new_bottom = j\n",
    "                    j += 1 \n",
    "                match = True\n",
    "                break\n",
    "                \n",
    "        top = Last_to_first[i]\n",
    "        bottom = Last_to_first[new_bottom]+1\n",
    "\n",
    "        if not match:\n",
    "            return 0\n",
    "        else:\n",
    "            Pattern = Pattern[:-1]"
   ]
  },
  {
   "cell_type": "code",
   "execution_count": 218,
   "metadata": {},
   "outputs": [],
   "source": [
    "with open('/Users/jasonmoggridge/Dropbox/Rosalind/Coursera_textbook_track/Course6/data/rosalind_ba9l.txt') as file:\n",
    "    bwt = file.readline().strip()\n",
    "    Patterns = file.readline().strip().split()\n",
    "\n",
    "last_col, Last_to_first = process_bwt(bwt)\n",
    "matches =[]\n",
    "for Pattern in Patterns:\n",
    "    matches.append(BW_match(last_col, Last_to_first, Pattern))\n",
    "\n",
    "\n",
    "with open('/Users/jasonmoggridge/Dropbox/Rosalind/Coursera_textbook_track/Course6/data/rosalind_ba9k_out.txt','w') as outfile:\n",
    "    outfile.write(' '.join(str(i) for i in matches))"
   ]
  },
  {
   "cell_type": "code",
   "execution_count": 219,
   "metadata": {
    "scrolled": true
   },
   "outputs": [
    {
     "data": {
      "text/plain": [
       "'0 0 0 0 0 0 0 1 0 1 1 1 0 1 0 0 0 0 0 0 0 0 1 0 1 1 0 0 0 0 0 0 1 1 0 1 1 1 1 0 0 1 0 2 0 1 0 0 0 0 0 1 1 0 1 1 0 0 1 0 0 0 0 0 1 1 0 0 1 1 1 0 0 1 0 0 1 1 0 0 1 0 0 0 1 1 0 0 1 0 1 0 1 1 0 0 0 0 2 0 1 0 1 1 1 0 0 1 1 1 1 1 1 1 1 1 1 1 1 0 1 0 0 1 0 1 1 0 1 0 1 1 0 0 1 0 0 0 0 1 1 1 1 1 1 0 0 1 0 1 0 1 0 1 1 0 1 1 1 1 1 1 1 1 1 1 0 1 0 0 0 0 0 1 1 0 0 0 1 1 0 1 0 1 0 0 2 1 0 0 1 1 1 0 1 1 0 0 0 0 1 0 0 0 1 0 0 0 1 1 0 0 0 0 1 0 1 0 1 0 0 0 1 0 1 1 1 1 1 1 1 0 0 0 0 0 1 0 0 1 0 0 0 1 0 1 0 1 0 0 0 0 0 1 0 1 0 1 1 1 1 1 1 1 0 1 1 0 1 1 0 1 1 1 1 0 0 0 0 1 1 0 1 1 1 0 1 0 1 0 0 1 1 0 1 0 1 0 0 0 0 1 1 1 0 0 1 0 1 0 1 0 0 1 0 1 1 1 1 1 0 0 1 1 1 0 0 0 0 0 1 0 1 1 0 0 1 0 0 0 0 0 0 1 0 0 1 1 1 0 0 1 0 0 1 0 0 0 0 0 1 1 1 0 0 1 0 0 0 1 1 0 1 1 0 1 0 0 0 0 1 0 1 0 0 0 1 1 0 1 0 1 0 1 0 0 1 0 1 1 1 1 0 1 0 1 1 1 0 1 1 0 0 1 1 0 0 1 1 1 1 1 1 0 0 1 1 1 0 1 0 1 1 1 0 1 1 1 1 0 0 1 1 0 0 0 0 0 0 0 0 0 0 1 1 0 0 0 1 0 0 0 0 0 0 0 0 1 0 0 0 0 0 0 0 1 0 0 1 1 1 1 0 0 1 0 1 1 0 0 1 0 1 0 1 1 1 1 1 1 0 1 0 0 0 0 0 1 1 0 0 0 1 1 1 0 0 0 0 1 0 0 0 0 1 0 0 0 1 0 0 0 0 0 0 1 0 1 0 1 1 0 1 0 1 1 1 0 0 1 1 1 0 1 1 0 1 0 0 0 0 0 0 1 0 1 0 0 1 0 0 1 1 1 1 1 1 0 0 0 0 1 0 0 1 1 1 1 1 0 1 1 0 1 0 0 1 1 1 0 0 1 0 1 0 1 0 1 0 0 1 0 0 0 0 0 1 0 0 1 1 1 1 0 1 0 0 0 0 1 0 0 1 1 1 1 0 1 1 0 0 0 1 0 0 0 0 1 1 0 0 0 0 1 1 0 0 1 1 0 0 0 0 1 1 1 1 1 0 1 1 1 0 1 0 0 0 1 1 1 0 0 1 1 1 0 0 1 1 0 0 1 1 1 0 1 1 0 0 1 0 0 0 0 0 1 1 1 0 0 1 1 1 1 0 1 0 0 1 0 0 1 1 0 0 0 1 0 0 0 1 0 0 1 0 1 0 1 0 0 1 1 0 0 0 1 0 0 0 0 0 1 0 0 1 0 1 0 0 0 0 1 0 0 1 1 0 1 0 0 0 1 1 1 0 0 1 0 0 0 1 1 1 0 1 0 0 1 0 0 1 1 0 0 1 1 0 1 1 0 0 1 1 0 1 1 1 0 0 1 1 0 1 1 1 0 1 0 0 1 0 0 1 1 0 0 1 0 1 1 1 0 0 1 0 1 0 1 0 0 1 1 1 1 0 0 1 0 1 1 1 0 0 0 0 0 0 1 0 1 1 1 0 0 0 1 0 0 1 1 1 0 1 1 0 1 0 0 1 1 0 1 1 0 1 0 0 0 0 0 1 0 0 0 0 0 0 1 0 1 1 0 1 1 0 0 0 0 1 1 0 0 0 1 0 1 0 0 0 0 0 0 0 1 1 0 0 0 0 0 0 1 0 0 1 0 1 0 0 1 0 0 0 1 1 1 0 1 1 1 1 0 0 0 0 0 1 0 0 0 1 0 0 1 1 1 0 0 1 1 1 0 0 0 0 0 0 0 1 1 1 1 1 1 0 1 1 1 0 2 0 1 0 0 1 0 0 1 1 0 0 1 0 1 0 1 0 1 0 1 1 0 0 1 0 1 1 0 0 1 1 0 0 0 0 0 0 0 1 1 1 1 1 1 1 1 0 0 0 0 0 1 1 1 0 0 1 1 0 1 0 0 0 0 0 1 0 1 0 0 1 1 0 1 1 1 1 1 0 0 0 0 0 1 1 0 1 0 0 1 1 1 0 0 1 0 0 1 1 0 1 0 0 0 0 1 1 1 1 1 0 0 0 0 1 0 1 1 1 1 1 0 0 1 0 1 1 0 0 0 0 0 0 0 1 0 1 0 1 1 0 1 1 0 1 1 0 1 1 0 1 1 0 0 1 0 0 0 1 1 0 0 0 0 1 1 0 1 0 0 1 1 1 1 0 1 1 1 0 0 0 0 1 1 1 1 1 0 0 0 0 1 1 1 1 0 1 1 1 0 0 1 1 1 1 1 1 1 0 1 1 0 0 0 0 0 1 1 1 0 0 1 1 0 0 0 1 0 1 1 0 1 0 0 0 1 1 0 0 1 1 0 0 1 1 1 1 1 0 0 1 0 0 1 0 0 0 1 1 0 1 0 0 1 0 1 1 1 1 0 0 1 0 0 0 0 0 1 1 1 0 1 0 0 1 1 1 0 1 1 0 1 0 0 0 1 0 1 1 1 0 0 0 0 1 0 1 0 1 0 0 1 0 1 1 1 0 0 0 1 0 0 0 0 1 0 0 0 1 1 0 0 0 1 1 0 1 0 0 0 0 1 0 1 1 1 1 0 1 0 1 1 1 1 0 0 0 0 0 0 1 0 1 0 0 0 0 0 0 0 1 1 0 0 1 1 0 1 0 0 1 1 0 1 1 1 1 0 1 1 1 1 0 2 0 1 1 1 0 1 1 1 1 1 1 0 0 1 1 1 0 1 0 1 1 0 0 1 1 1 0 0 0 0 0 1 0 0 1 0 1 1 1 0 1 1 0 0 0 0 1 1 0 0 1 1 0 1 0 0 0 1 1 0 0 0 1 1 1 1 1 1 0 1 0 1 1 0 0 1 0 1 1 1 1 0 0 1 0 0 1 1 1 1 1 0 0 1 1 1 0 0 1 1 0 1 0 1 0 0 1 0 1 1 1 1 0 0 0 1 1 1 1 0 0 0 1 1 1 1 0 0 0 1 1 0 0 1 1 1 1 1 0 0 1 0 0 0 0 1 1 1 0 0 0 0 0 0 1 0 0 0 1 0 0 1 1 1 1 1 0 0 1 0 1 1 0 0 0 0 0 0 1 1 0 0 1 0 1 0 0 1 1 1 1 1 1 1 0 1 0 1 0 1 1 1 0 0 0 0 0 1 1 0 1 0 1 0 0 1 1 0 0 1 0 1 0 1 1 0 1 0 1 1 1 1 1 0 1 1 1 0 0 1 1 1 1 0 0 0 1 0 0 1 1 0 1 0 0 0 0 0 0 0 0 0 0 0 1 1 0 1 1 0 1 1 0 0 0 1 1 0 0 0 1 1 1 0 1 1 1 0 1 0 0 1 0 1 0 0 1 0 1 1 0 1 1 0 0 0 1 1 1 0 0 1 0 1 1 0 1 1 1 0 1 1 1 0 1 0 1 1 0 1 0 0 1 0 1 1 0 0 0 0 0 0 1 0 0 1 0 0 0 1 0 1 1 0 0 0 0 1 1 0 0 1 0 0 1 1 1 0 1 1 1 0 0 0 1 0 1 1 1 1 1 0 1 0 0 0 0 0 1 1 0 1 1 0 1 0 1 0 0 1 0 1 0 1 0 0 1 1 1 1 0 0 0 1 1 1 1 0 0 1 1 1 0 1 0 1 1 0 0 1 1 1 0 1 1 1 1 1 1 0 0 1 1 1 1 0 0 0 0 0 0 0 0 1 1 0 0 1 1 0 0 0 1 1 0 0 1 0 1 1 0 0 1 1 1 0 1 1 1 0 1 0 0 1 1 1 1 1 1 0 1 0 0 1 0 0 1 1 1 0 1 0 0 1 1 1 0 0 0 1 0 0 1 0 1 0 0 1 0 0 0 1 0 0 1 1 1 1 0 1 0 0 0 0 1 1 0 0 0 1'"
      ]
     },
     "execution_count": 219,
     "metadata": {},
     "output_type": "execute_result"
    }
   ],
   "source": [
    "' '.join(str(i) for i in matches)"
   ]
  },
  {
   "cell_type": "markdown",
   "metadata": {},
   "source": [
    "---\n",
    "\n",
    "<br>"
   ]
  },
  {
   "cell_type": "markdown",
   "metadata": {},
   "source": [
    "### That is the end of Course 6 week 2.\n",
    "---\n",
    "\n",
    "#### So far...\n",
    "\n",
    "* [x] Encode BWT - ba9i\n",
    "* [x] Decode BWT - ba9j\n",
    "* [x] Last to First Array - ba9k\n",
    "* [x] Pattern Match in BWT - ba9l\n",
    "\n",
    "<br>\n",
    "\n",
    "---\n",
    "\n",
    "<br>\n",
    "\n",
    "### Next notebook-> BA9-3: Course 6, Week 3 -> Better BWT Matching algorithms... \n",
    "---"
   ]
  },
  {
   "cell_type": "code",
   "execution_count": null,
   "metadata": {},
   "outputs": [],
   "source": []
  }
 ],
 "metadata": {
  "kernelspec": {
   "display_name": "Python 3",
   "language": "python",
   "name": "python3"
  },
  "language_info": {
   "codemirror_mode": {
    "name": "ipython",
    "version": 3
   },
   "file_extension": ".py",
   "mimetype": "text/x-python",
   "name": "python",
   "nbconvert_exporter": "python",
   "pygments_lexer": "ipython3",
   "version": "3.7.4"
  }
 },
 "nbformat": 4,
 "nbformat_minor": 4
}
