{
 "cells": [
  {
   "cell_type": "markdown",
   "metadata": {},
   "source": [
    "# Epilogue: HMMs chapter\n",
    "\n",
    "Profile HMMs for multiple sequence alignment and HMMs finding CG-islands are just two examples of many applications of HMM in bioinformatics. Furthermore, applications of HMMs to HIV analysis are not limited to profile HMMs but also include analysis of HIV resistance against antiviral drug therapies.\n",
    "\n",
    "Early in the chapter, we mentioned that patients infected with HIV are treated with a cocktail of several drugs. These drugs attempt to suppress replication of the virus, but HIV often mutates into drug-resistant strains that eventually dominate the virus population in a host, making a drug cocktail progressively ineffective. HIV viruses are often sequenced after drug therapy has failed in order to decide how to reformulate the drug cocktail. Thus, understanding HIV’s pathways to drug resistance is important to design an effective cocktail.\n",
    "\n",
    "Yet modeling HIV resistance pathways is a difficult task. Two mutations that are advantageous for the virus may interact synergistically, causing the double mutation to be fixed more often than we might predict from the frequencies of the individual substitutions. Mutations can also interact antagonistically, resulting in mutants that are less fit than we might predict.\n",
    "\n",
    "In 2007, Niko Beerenwinkel and Mathias Drton introduced an HMM-based model for HIV evolution and developing drug resistance. However, their HMM is far too complex to explain here. We nevertheless mention it here in order to emphasize the power of HMMs. Even though they may seem like simple machines that flip coins and emit symbols, HMMs can be applied to tackle complex bioinformatics problems ranging from gene prediction to regulatory motif finding.`"
   ]
  },
  {
   "cell_type": "markdown",
   "metadata": {},
   "source": [
    "Bibliography Notes\n",
    "The decoding algorithm was developed by [Viterbi, 1967](https://ieeexplore.ieee.org/document/1054010). The first algorithms for HMM parameter estimation were developed by [Baum et al., 1970](https://www.semanticscholar.org/paper/A-Maximization-Technique-Occurring-in-the-Analysis-Baum-Petrie/3092a4929bdb3d6a8fe53f162586b7431b5ff8a4). \n",
    "\n",
    "[Churchill](https://link.springer.com/article/10.1007/BF02458837), 1989, [Krogh et al., 1994](https://www.ncbi.nlm.nih.gov/pubmed/8107089), and [Baldi et al., 1994](https://www.ncbi.nlm.nih.gov/pubmed/8302831) pioneered the application of HMMs in computational biology. [Bateman et al., 2002](https://www.ncbi.nlm.nih.gov/pubmed/11752314) described applications of profile HMM alignments for developing a database of protein domain families called Pfam. [De Jong et al.,1992](https://www.ncbi.nlm.nih.gov/pubmed/1404617) discovered the 11/25 rule. \n",
    "[Beerenwinkel and Drton, 2007](https://www.ncbi.nlm.nih.gov/pubmed/16569743) constructed an HMM for analyzing HIV resistance."
   ]
  },
  {
   "cell_type": "markdown",
   "metadata": {},
   "source": [
    "\n",
    "\n",
    "\n",
    "\n",
    "\n",
    "\n",
    "\n",
    "\n",
    "\n",
    "\n"
   ]
  },
  {
   "cell_type": "code",
   "execution_count": null,
   "metadata": {},
   "outputs": [],
   "source": []
  }
 ],
 "metadata": {
  "kernelspec": {
   "display_name": "Python 3",
   "language": "python",
   "name": "python3"
  },
  "language_info": {
   "codemirror_mode": {
    "name": "ipython",
    "version": 3
   },
   "file_extension": ".py",
   "mimetype": "text/x-python",
   "name": "python",
   "nbconvert_exporter": "python",
   "pygments_lexer": "ipython3",
   "version": "3.7.4"
  }
 },
 "nbformat": 4,
 "nbformat_minor": 4
}
