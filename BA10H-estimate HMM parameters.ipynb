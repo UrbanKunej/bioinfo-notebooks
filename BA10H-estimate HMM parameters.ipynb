{
 "cells": [
  {
   "cell_type": "code",
   "execution_count": 72,
   "metadata": {},
   "outputs": [],
   "source": [
    "## BA10H HMM Parameter Estimation problem -super easy\n",
    "import numpy as np\n",
    "import pandas as pd\n",
    "\n",
    "def outputHMM(T,E,S,alpha):\n",
    "    lists = []\n",
    "    lists.append(['']+S)\n",
    "    for i in range(len(S)):\n",
    "        # use {0:g} format to remove trailing zeros\n",
    "        lists.append([S[i]]+['{0:g}'.format(x) for x in T[i]])\n",
    "    lists.append('--------')\n",
    "    lists.append([''] + alpha)\n",
    "    for i in range(len(S)):\n",
    "        lists.append([S[i]]+['{0:g}'.format(x) for x in E[i]])\n",
    "    return lists\n",
    "\n",
    "def estimate_parameters(pi, emissions, S, alpha):\n",
    "    emissions = [alpha.index(e) for e in emissions]\n",
    "    pi = [S.index(s) for s in pi]\n",
    "    T = np.zeros(shape = (len(S), len(S)))\n",
    "    E = np.zeros(shape = (len(S), len(alpha)))\n",
    "    E[pi[0]][emissions[0]] +=1\n",
    "    prev = pi[0]\n",
    "    for i in range(1, len(emissions)):\n",
    "        E[pi[i]][emissions[i]] +=1\n",
    "        T[prev][pi[i]] +=1\n",
    "        prev = pi[i]\n",
    "    for s in range(len(S)):\n",
    "        if sum(E[s]) == 0:\n",
    "            E[s]+=1\n",
    "        E[s] = E[s]/sum(E[s])\n",
    "        if sum(T[s]) == 0:\n",
    "            T[s] += 1\n",
    "        T[s] = T[s]/sum(T[s])\n",
    "    print(\"\\n\\nestimated Transition matrix:\")\n",
    "    print(pd.DataFrame(np.around(T,3), index=S, columns = S))\n",
    "    print(\"\\nestimated Emission matrix:\")\n",
    "    print(pd.DataFrame(np.around(E,3), index=S, columns = alpha))\n",
    "    return T,E\n"
   ]
  },
  {
   "cell_type": "code",
   "execution_count": 74,
   "metadata": {},
   "outputs": [
    {
     "name": "stdout",
     "output_type": "stream",
     "text": [
      "pi:      ABBBABBBBAAAABBABAABBBAAABBBAABBBABBBAAABBABAABBBAAAABABBABAABBAAAABBAAAAAABBABBAABAAAAABBBABBABBBBB\n",
      "emits:   yzxzzxzzzyzxzzxzxyyyyyzzyzzxyyyxyzxyzzxyzyyyxzyxxxxxxyxzzxxyyyzyyyxzxzyyzzzyzyyxyxyzyxyzzyxxyxyzyxzy\n",
      "\n",
      "\n",
      "estimated Transition matrix:\n",
      "       A      B\n",
      "A  0.551  0.449\n",
      "B  0.420  0.580\n",
      "\n",
      "estimated Emission matrix:\n",
      "       x      y      z\n",
      "A  0.265  0.429  0.306\n",
      "B  0.294  0.353  0.353\n"
     ]
    }
   ],
   "source": [
    "with open('/Users/jasonmoggridge/Dropbox/Rosalind/Coursera_textbook_track/Course6/data/dataset_26260_4.txt','r') as f:\n",
    "    lines = f.readlines()\n",
    "    emissions = lines[0].strip()\n",
    "    alpha = lines[2].strip().split(' ')\n",
    "    pi = lines[4].strip()\n",
    "    S = lines[6].strip().split()\n",
    "print('pi:     ', pi)\n",
    "print('emits:  ', emissions)\n",
    "\n",
    "T, E = estimate_parameters(pi, emissions, S, alpha)\n",
    "outputL = outputHMM(np.around(T,3), np.around(E,3), S, alpha)\n",
    "# for l in outputL:\n",
    "#     print(l)\n",
    "\n",
    "with open('/Users/jasonmoggridge/Dropbox/Rosalind/Coursera_textbook_track/Course6/data/10h.out.txt','w') as file:\n",
    "    for line in outputL[:-1]:\n",
    "        if line[0] != '-':\n",
    "            file.write('\\t'.join(line))\n",
    "        else:\n",
    "            file.write(line)\n",
    "        file.write('\\n')\n",
    "    file.write('\\t'.join(outputL[-1]))"
   ]
  },
  {
   "cell_type": "code",
   "execution_count": null,
   "metadata": {},
   "outputs": [],
   "source": []
  }
 ],
 "metadata": {
  "kernelspec": {
   "display_name": "Python 3",
   "language": "python",
   "name": "python3"
  },
  "language_info": {
   "codemirror_mode": {
    "name": "ipython",
    "version": 3
   },
   "file_extension": ".py",
   "mimetype": "text/x-python",
   "name": "python",
   "nbconvert_exporter": "python",
   "pygments_lexer": "ipython3",
   "version": "3.7.4"
  }
 },
 "nbformat": 4,
 "nbformat_minor": 4
}
