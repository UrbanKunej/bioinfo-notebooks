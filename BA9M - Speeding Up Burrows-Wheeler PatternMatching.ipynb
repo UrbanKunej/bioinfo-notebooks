{
 "cells": [
  {
   "cell_type": "markdown",
   "metadata": {},
   "source": [
    "# Burrows Wheeler Transform - using FM-index\n",
    "---"
   ]
  },
  {
   "cell_type": "markdown",
   "metadata": {
    "toc-hr-collapsed": true,
    "toc-nb-collapsed": true
   },
   "source": [
    "## Implement BetterBWMatching http://rosalind.info/problems/ba9m/\n",
    "\n",
    "<br>\n",
    "\n",
    "If you implemented BWMATCHING in “Implement BWMatching”, you probably found the algorithm to be slow. The reason for its sluggishness is that **updating the pointers top and bottom is time-intensive, since it requires examining every symbol in LastColumn between top and bottom at each step**. \n",
    "\n",
    "To improve *BWMATCHING*, we introduce a function \\$ Count_{symbol}(i, LastColumn) $\\,\n",
    "which returns the number of occurrences of symbol in the first i positions of LastColumn. \n",
    "\n",
    "For example, Count_{n](10, \"smnpbnnaaaaa#a”  = 3, and Count_{a}(4, \"smnpbnnaaaaa#a”) = 0 \n",
    "\n",
    "The green lines from BWMATCHING can be compactly described without the First-to-Last mapping by the following two lines:\n",
    "\n",
    ">    top ← position of symbol with rank Countsymbol(top, LastColumn) + 1 in FirstColumn\n",
    "    bottom ← position of symbol with rank Countsymbol(bottom + 1, LastColumn) in FirstColumn\n",
    "    \n",
    "\n",
    "Define FirstOccurrence(symbol) as the first position of symbol in FirstColumn. If Text = \"panamabananas#\", then FirstColumn is \"#aaaaaabmnnnps\", and the array holding all values of FirstOccurrence is \\[0, 1, 7, 8, 9, 11, 12]. For DNA strings of any length, the array FirstOccurrence contains only five elements.\n",
    "\n",
    "The two lines of pseudocode from the previous step can now be rewritten as follows:\n",
    "\n",
    "    top ← FirstOccurrence(symbol) + Countsymbol(top, LastColumn)\n",
    "    bottom ← FirstOccurrence(symbol) + Countsymbol(bottom + 1, LastColumn) − 1\n",
    "\n",
    "In the process of simplifying the green lines of pseudocode from *BWMATCHING*, we have also eliminated the need for both FirstColumn and LastToFirst, resulting in a more efficient algorithm called *BETTERBWMATCHING*.\n",
    "\n",
    "`BETTERBWMATCHING(FirstOccurrence, LastColumn, Pattern, Count)\n",
    "    top ← 0\n",
    "    bottom ← |LastColumn| − 1\n",
    "    while top ≤ bottom\n",
    "        if Pattern is nonempty\n",
    "            symbol ← last letter in Pattern\n",
    "            remove last letter from Pattern\n",
    "            if positions from top to bottom in LastColumn contain an occurrence of symbol\n",
    "                top ← FirstOccurrence(symbol) + Countsymbol(top, LastColumn)\n",
    "                bottom ← FirstOccurrence(symbol) + Countsymbol(bottom + 1, LastColumn) − 1\n",
    "            else\n",
    "                return 0\n",
    "        else\n",
    "            return bottom − top + 1\n",
    "`\n",
    "\n",
    "Implement BetterBWMatching\n",
    "Given: A string BWT(Text), followed by a collection of strings Patterns.\n",
    "\n",
    "Return: A list of integers, where the i-th integer corresponds to the number of substring matches of the i-th member of Patterns in Text.\n",
    "\n",
    "Sample Dataset\n",
    "GGCGCCGC$TAGTCACACACGCCGTA\n",
    "ACC CCG CAG\n",
    "Sample Output\n",
    "1 2 1"
   ]
  },
  {
   "cell_type": "code",
   "execution_count": 4,
   "metadata": {},
   "outputs": [],
   "source": [
    "import time\n",
    "from IPython.display import display, Markdown, Latex"
   ]
  },
  {
   "cell_type": "code",
   "execution_count": 5,
   "metadata": {},
   "outputs": [],
   "source": [
    "class BurrowsWheeler: \n",
    "    \"\"\"Takes a BWT string for pattern matching with list of text Patterns\"\"\"\n",
    "\n",
    "    def __init__(self, bw):\n",
    "        \"\"\"BW constructor computes first_occurence of each symbol & symbol count array \"\"\"\n",
    "\n",
    "        self.bw = bw\n",
    "        self.first_occur = self.first_occurence(bw)\n",
    "        self.count = self.get_count(bw)\n",
    "\n",
    "    def pattern_match(self, Pattern):\n",
    "        \"\"\"BW matching using first occur and count data, constant-time indexing\"\"\"\n",
    "\n",
    "        top = 0\n",
    "        bottom = len(self.bw)\n",
    "        while bottom >= top:\n",
    "            if len(Pattern)>=1:\n",
    "                symbol = Pattern[-1]\n",
    "            else:\n",
    "                return bottom-top\n",
    "            top = self.first_occur[symbol] + self.count[symbol][top]\n",
    "            bottom = self.first_occur[symbol] + self.count[symbol][bottom]\n",
    "            Pattern = Pattern[:-1]\n",
    "        return 0\n",
    "\n",
    "    @staticmethod\n",
    "    def first_occurence(bw):\n",
    "        \"\"\"The index i at which each symbol first occurs in the first col, ie. lex. sorted(bw)\"\"\"\n",
    "        first_occur = {}\n",
    "        first_col = sorted(bw)\n",
    "        for i in range(len(bw)):\n",
    "            symbol = first_col[i][0]\n",
    "            if symbol not in first_occur.keys():\n",
    "                first_occur[symbol]= i\n",
    "        return first_occur\n",
    "\n",
    "    @staticmethod\n",
    "    def get_count(bw):\n",
    "        \"\"\"Cumulative count for each symbol s in alphabet, previous to index i in bw\"\"\"\n",
    "        alpha = sorted(set(bw))\n",
    "        count = {symbol:[0] for symbol in alpha}\n",
    "        for symbol in bw:\n",
    "            for s in alpha:\n",
    "                if symbol == s:\n",
    "                    count[s].append(count[s][-1]+1)\n",
    "                else:\n",
    "                    count[s].append(count[s][-1])\n",
    "        return count\n"
   ]
  },
  {
   "cell_type": "code",
   "execution_count": 6,
   "metadata": {},
   "outputs": [
    {
     "name": "stdout",
     "output_type": "stream",
     "text": [
      "parsing text file, time(s): 0.002\n",
      "len text: 10001\n",
      "len Patterns: 3785\n",
      "initializing bwt object, time: 0.0181\n",
      "new algo with FirstOccurence and Count[symbol][i] -> time (s): 0.1009\n",
      "Matches_array == Solution? True\n"
     ]
    }
   ],
   "source": [
    "import time\n",
    "\n",
    "start=time.time()\n",
    "with open(\"data/BetterBWMatching.txt\") as infile:\n",
    "    infile.readline().strip()\n",
    "    Text = infile.readline().strip()\n",
    "    Patterns = infile.readline().strip().split(' ')\n",
    "    infile.readline().strip()\n",
    "    Solution = infile.readline().strip()\n",
    "\n",
    "print('parsing text file, time(s):', round(time.time()-start,4))\n",
    "print('len text:', len(Text))\n",
    "print('len Patterns:', len(Patterns))\n",
    "\n",
    "start = time.time()\n",
    "bw = BurrowsWheeler(Text)\n",
    "print('initializing bwt object, time:',round(time.time()-start,4))\n",
    "\n",
    "start = time.time()\n",
    "matches = [bw.pattern_match(pattern) for pattern in Patterns]\n",
    "print('new algo with FirstOccurence and Count[symbol][i] -> time (s):', round(time.time()-start,4))\n",
    "\n",
    "Matches_array =' '.join(str(i) for i in matches)\n",
    "print(\"Matches_array == Solution?\", Matches_array == Solution)"
   ]
  },
  {
   "cell_type": "code",
   "execution_count": null,
   "metadata": {},
   "outputs": [],
   "source": []
  }
 ],
 "metadata": {
  "kernelspec": {
   "display_name": "Python 3",
   "language": "python",
   "name": "python3"
  },
  "language_info": {
   "codemirror_mode": {
    "name": "ipython",
    "version": 3
   },
   "file_extension": ".py",
   "mimetype": "text/x-python",
   "name": "python",
   "nbconvert_exporter": "python",
   "pygments_lexer": "ipython3",
   "version": "3.7.4"
  }
 },
 "nbformat": 4,
 "nbformat_minor": 4
}
