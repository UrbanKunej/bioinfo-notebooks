{
 "cells": [
  {
   "cell_type": "code",
   "execution_count": 1,
   "metadata": {},
   "outputs": [],
   "source": [
    "# text = \"AACGATAGCGGTAGA$\"\n",
    "# solution =[15, 14, 0, 1, 12, 6, 4, 2, 8, 13, 3, 7, 9, 10, 11, 5]"
   ]
  },
  {
   "cell_type": "code",
   "execution_count": 124,
   "metadata": {},
   "outputs": [],
   "source": [
    "def make_suffix_array(text):\n",
    "\n",
    "    \"\"\"creates suffix_array as list\"\"\"\n",
    "    suffixes = sorted(text[i:] for i in range(len(text)))\n",
    "    SA = [len(text)-len(suf) for suf in suffixes]\n",
    "    return SA    \n",
    "\n",
    "\n",
    "def partial_suffix_array(text, k):\n",
    "    \"\"\"returns partial suffix array for every k-th suffix of text\"\"\"\n",
    "    SA = make_suffix_array(text) \n",
    "    # take suffix array values for every k-th suffix from text.\n",
    "    SA = [(counter, value) for counter, value in enumerate(SA) if value % k == 0] \n",
    "    return SA\n",
    "\n"
   ]
  },
  {
   "cell_type": "code",
   "execution_count": null,
   "metadata": {},
   "outputs": [],
   "source": [
    "# with open(\"data/PartialSuffixArray.txt\", 'r') as infile:\n",
    "#     infile.readline()\n",
    "#     text = str(infile.readline().strip())\n",
    "#     k = int(infile.readline().strip())\n",
    "#     infile.readline()\n",
    "#     solution = [tuple(int(i) for i in line.strip().split(',')) for line in infile.readlines()]\n",
    "\n",
    "# with open(\"data/dataset_9809_2.txt\", 'r') as infile:\n",
    "#     text = str(infile.readline().strip())\n",
    "#     k = int(infile.readline())\n",
    "    \n",
    "with open(\"data/rosalind_ba9q.txt\", 'r') as infile:\n",
    "    text = str(infile.readline().strip())\n",
    "    k = int(infile.readline())\n",
    "\n",
    "SA = partial_suffix_array(text,k)\n",
    "\n",
    "with open(\"data/rosalind_ba9q_out.txt\", 'w') as outfile:\n",
    "    for sa in SA:\n",
    "        line = ','.join(str(i) for i in sa)\n",
    "        outfile.write(line + '\\n')\n",
    "print(SA[:k])"
   ]
  },
  {
   "cell_type": "code",
   "execution_count": null,
   "metadata": {},
   "outputs": [],
   "source": []
  }
 ],
 "metadata": {
  "kernelspec": {
   "display_name": "Python 3",
   "language": "python",
   "name": "python3"
  },
  "language_info": {
   "codemirror_mode": {
    "name": "ipython",
    "version": 3
   },
   "file_extension": ".py",
   "mimetype": "text/x-python",
   "name": "python",
   "nbconvert_exporter": "python",
   "pygments_lexer": "ipython3",
   "version": "3.7.4"
  }
 },
 "nbformat": 4,
 "nbformat_minor": 2
}
